{
 "cells": [
  {
   "cell_type": "markdown",
   "id": "85689fc8",
   "metadata": {},
   "source": [
    "# Real Life Application of IoT Lab Final Project\n",
    "\n",
    "# IoT Based Fish Recomandation System A Machine Learning Apporch "
   ]
  },
  {
   "cell_type": "markdown",
   "id": "e407431a",
   "metadata": {},
   "source": [
    "## Course Title: Real Life Application of IoT Lab\n",
    "## Course Code: IoT 4316\n",
    "## ID-1901036 ,1901033,1801048,1901034\n",
    "## Session: 2019-20"
   ]
  },
  {
   "cell_type": "markdown",
   "id": "a7f407b3",
   "metadata": {},
   "source": [
    "# Import Library"
   ]
  },
  {
   "cell_type": "code",
   "execution_count": 1,
   "id": "c4acde92",
   "metadata": {},
   "outputs": [],
   "source": [
    "import pandas as pd\n",
    "from sklearn.model_selection import train_test_split\n",
    "from sklearn.preprocessing import StandardScaler\n",
    "from sklearn.neighbors import KNeighborsClassifier\n",
    "from sklearn.metrics import accuracy_score, classification_report, confusion_matrix\n",
    "import seaborn as sns\n"
   ]
  },
  {
   "cell_type": "code",
   "execution_count": 2,
   "id": "99b4e989",
   "metadata": {},
   "outputs": [
    {
     "data": {
      "text/html": [
       "<div>\n",
       "<style scoped>\n",
       "    .dataframe tbody tr th:only-of-type {\n",
       "        vertical-align: middle;\n",
       "    }\n",
       "\n",
       "    .dataframe tbody tr th {\n",
       "        vertical-align: top;\n",
       "    }\n",
       "\n",
       "    .dataframe thead th {\n",
       "        text-align: right;\n",
       "    }\n",
       "</style>\n",
       "<table border=\"1\" class=\"dataframe\">\n",
       "  <thead>\n",
       "    <tr style=\"text-align: right;\">\n",
       "      <th></th>\n",
       "      <th>ph</th>\n",
       "      <th>temperature</th>\n",
       "      <th>turbidity</th>\n",
       "      <th>fish</th>\n",
       "    </tr>\n",
       "  </thead>\n",
       "  <tbody>\n",
       "    <tr>\n",
       "      <th>0</th>\n",
       "      <td>6.0</td>\n",
       "      <td>27.0</td>\n",
       "      <td>4.0</td>\n",
       "      <td>katla</td>\n",
       "    </tr>\n",
       "    <tr>\n",
       "      <th>1</th>\n",
       "      <td>7.6</td>\n",
       "      <td>28.0</td>\n",
       "      <td>5.9</td>\n",
       "      <td>sing</td>\n",
       "    </tr>\n",
       "    <tr>\n",
       "      <th>2</th>\n",
       "      <td>7.8</td>\n",
       "      <td>27.0</td>\n",
       "      <td>5.5</td>\n",
       "      <td>sing</td>\n",
       "    </tr>\n",
       "    <tr>\n",
       "      <th>3</th>\n",
       "      <td>6.5</td>\n",
       "      <td>31.0</td>\n",
       "      <td>5.5</td>\n",
       "      <td>katla</td>\n",
       "    </tr>\n",
       "    <tr>\n",
       "      <th>4</th>\n",
       "      <td>8.2</td>\n",
       "      <td>27.0</td>\n",
       "      <td>8.5</td>\n",
       "      <td>prawn</td>\n",
       "    </tr>\n",
       "  </tbody>\n",
       "</table>\n",
       "</div>"
      ],
      "text/plain": [
       "    ph  temperature  turbidity   fish\n",
       "0  6.0         27.0        4.0  katla\n",
       "1  7.6         28.0        5.9   sing\n",
       "2  7.8         27.0        5.5   sing\n",
       "3  6.5         31.0        5.5  katla\n",
       "4  8.2         27.0        8.5  prawn"
      ]
     },
     "execution_count": 2,
     "metadata": {},
     "output_type": "execute_result"
    }
   ],
   "source": [
    "# Load your dataset\n",
    "df = pd.read_csv('realfishdataset.csv')\n",
    "df.head()"
   ]
  },
  {
   "cell_type": "markdown",
   "id": "6e48e601",
   "metadata": {},
   "source": [
    "# Data Preprocessing"
   ]
  },
  {
   "cell_type": "code",
   "execution_count": 3,
   "id": "4e81a4f3",
   "metadata": {},
   "outputs": [
    {
     "data": {
      "text/plain": [
       "(591, 4)"
      ]
     },
     "execution_count": 3,
     "metadata": {},
     "output_type": "execute_result"
    }
   ],
   "source": [
    "# Checking the shape of the dataset\n",
    "df.shape"
   ]
  },
  {
   "cell_type": "code",
   "execution_count": 4,
   "id": "625fb9fd",
   "metadata": {},
   "outputs": [
    {
     "data": {
      "text/plain": [
       "ph             0\n",
       "temperature    0\n",
       "turbidity      0\n",
       "fish           0\n",
       "dtype: int64"
      ]
     },
     "execution_count": 4,
     "metadata": {},
     "output_type": "execute_result"
    }
   ],
   "source": [
    "# Checking for null/missing values\n",
    "df.isnull().sum()"
   ]
  },
  {
   "cell_type": "code",
   "execution_count": 5,
   "id": "63c14fdf",
   "metadata": {},
   "outputs": [
    {
     "data": {
      "text/plain": [
       "ph             float64\n",
       "temperature    float64\n",
       "turbidity      float64\n",
       "fish            object\n",
       "dtype: object"
      ]
     },
     "execution_count": 5,
     "metadata": {},
     "output_type": "execute_result"
    }
   ],
   "source": [
    "#Checking the datatypes\n",
    "df.dtypes"
   ]
  },
  {
   "cell_type": "code",
   "execution_count": 6,
   "id": "dd9dcd84",
   "metadata": {},
   "outputs": [
    {
     "name": "stdout",
     "output_type": "stream",
     "text": [
      "ph [6.   7.6  7.8  6.5  8.2  6.9  7.3  7.2  7.5  7.7  7.9  8.9  8.8  8.4\n",
      " 6.1  5.5  7.1  6.2  6.8  5.9  8.3  8.5  8.1  7.4  8.   5.6  8.6  7.\n",
      " 5.7  6.6  6.3  6.4  6.7  9.   7.67 8.39 8.24 8.26 8.23 8.31 8.38 7.84\n",
      " 6.02 8.16 7.96 7.79 7.88 8.18 8.32 8.65 8.66 8.74 8.57 8.62 8.69 8.73\n",
      " 8.63 8.75 8.77 8.78 8.81 8.79 8.87 6.01 6.09 6.93 6.42 6.48 7.27 7.24\n",
      " 7.11 7.83 7.75 7.07 6.99 6.87 6.68 6.95 8.15 8.09 7.99 7.92 7.87 7.54\n",
      " 7.43 7.42 7.26 6.78 6.92 6.51 7.02]\n",
      "temperature [27.   28.   31.   25.   30.   29.   32.   22.   18.   23.   19.   21.\n",
      " 26.   24.    5.   10.   15.   20.   12.   13.   14.    7.    8.    9.\n",
      " 11.   16.   17.    4.    6.   33.   34.   35.   17.62 17.5  17.56 17.75\n",
      " 17.69 17.87 17.94 17.81 21.06 20.94 20.87 21.44 21.5  21.37 21.25 21.31\n",
      " 21.12 21.19 21.09]\n",
      "turbidity [ 4.    5.9   5.5   8.5   6.    7.5   6.8   5.    4.9   6.1   5.3   5.8\n",
      "  7.2   5.6   3.    3.7   3.9   3.8   3.3   3.5   6.2   6.5   8.    7.\n",
      "  4.08  4.05  4.13  4.11  6.7   5.7   4.1   4.12  4.01  4.15  4.2   4.3\n",
      "  4.5   3.1   3.2   3.4   3.6   2.    1.    2.5   9.   10.    9.5   5.2\n",
      "  8.2   9.2   6.3   7.3   8.3   9.3   5.4   6.4   7.4   8.4   9.4   8.7\n",
      "  8.6   7.6   4.06  4.07  4.09  5.01  5.02  5.03  5.04  5.05  5.06  5.07\n",
      "  5.08  7.1  14.5  14.6  14.7  14.8  14.9  15.1  15.2  15.   15.3  15.4\n",
      " 15.5  15.7  15.8  15.19  3.56  3.55  3.57  3.44  3.45  3.41  3.46  3.47\n",
      "  3.48  3.43  3.49  3.37  3.36  3.35  3.33  3.32  3.31  3.62  3.61  3.58]\n",
      "fish ['katla' 'sing' 'prawn' 'rui' 'koi' 'pangas' 'tilapia' 'silverCup'\n",
      " 'karpio' 'magur' 'shrimp']\n"
     ]
    }
   ],
   "source": [
    "# Unique values in each column\n",
    "for i in df.columns:\n",
    "    print(i, df[i].unique())"
   ]
  },
  {
   "cell_type": "code",
   "execution_count": 7,
   "id": "0eb3c029",
   "metadata": {},
   "outputs": [
    {
     "data": {
      "text/html": [
       "<div>\n",
       "<style scoped>\n",
       "    .dataframe tbody tr th:only-of-type {\n",
       "        vertical-align: middle;\n",
       "    }\n",
       "\n",
       "    .dataframe tbody tr th {\n",
       "        vertical-align: top;\n",
       "    }\n",
       "\n",
       "    .dataframe thead th {\n",
       "        text-align: right;\n",
       "    }\n",
       "</style>\n",
       "<table border=\"1\" class=\"dataframe\">\n",
       "  <thead>\n",
       "    <tr style=\"text-align: right;\">\n",
       "      <th></th>\n",
       "      <th>ph</th>\n",
       "      <th>temperature</th>\n",
       "      <th>turbidity</th>\n",
       "    </tr>\n",
       "  </thead>\n",
       "  <tbody>\n",
       "    <tr>\n",
       "      <th>count</th>\n",
       "      <td>591.000000</td>\n",
       "      <td>591.000000</td>\n",
       "      <td>591.000000</td>\n",
       "    </tr>\n",
       "    <tr>\n",
       "      <th>mean</th>\n",
       "      <td>7.532115</td>\n",
       "      <td>21.789306</td>\n",
       "      <td>4.432944</td>\n",
       "    </tr>\n",
       "    <tr>\n",
       "      <th>std</th>\n",
       "      <td>0.810588</td>\n",
       "      <td>4.536612</td>\n",
       "      <td>2.169062</td>\n",
       "    </tr>\n",
       "    <tr>\n",
       "      <th>min</th>\n",
       "      <td>5.500000</td>\n",
       "      <td>4.000000</td>\n",
       "      <td>1.000000</td>\n",
       "    </tr>\n",
       "    <tr>\n",
       "      <th>25%</th>\n",
       "      <td>6.990000</td>\n",
       "      <td>17.940000</td>\n",
       "      <td>3.480000</td>\n",
       "    </tr>\n",
       "    <tr>\n",
       "      <th>50%</th>\n",
       "      <td>7.500000</td>\n",
       "      <td>21.060000</td>\n",
       "      <td>3.570000</td>\n",
       "    </tr>\n",
       "    <tr>\n",
       "      <th>75%</th>\n",
       "      <td>8.200000</td>\n",
       "      <td>24.000000</td>\n",
       "      <td>4.005000</td>\n",
       "    </tr>\n",
       "    <tr>\n",
       "      <th>max</th>\n",
       "      <td>9.000000</td>\n",
       "      <td>35.000000</td>\n",
       "      <td>15.800000</td>\n",
       "    </tr>\n",
       "  </tbody>\n",
       "</table>\n",
       "</div>"
      ],
      "text/plain": [
       "               ph  temperature   turbidity\n",
       "count  591.000000   591.000000  591.000000\n",
       "mean     7.532115    21.789306    4.432944\n",
       "std      0.810588     4.536612    2.169062\n",
       "min      5.500000     4.000000    1.000000\n",
       "25%      6.990000    17.940000    3.480000\n",
       "50%      7.500000    21.060000    3.570000\n",
       "75%      8.200000    24.000000    4.005000\n",
       "max      9.000000    35.000000   15.800000"
      ]
     },
     "execution_count": 7,
     "metadata": {},
     "output_type": "execute_result"
    }
   ],
   "source": [
    "df.describe()"
   ]
  },
  {
   "cell_type": "code",
   "execution_count": 50,
   "id": "70220ad0",
   "metadata": {},
   "outputs": [
    {
     "name": "stdout",
     "output_type": "stream",
     "text": [
      "Similarity Matrix:\n",
      "[[0.         2.17257019 2.32777033 ... 1.71676975 1.54449001 1.75960848]\n",
      " [2.17257019 0.         0.37910105 ... 2.08880562 2.16644805 2.02333665]\n",
      " [2.32777033 0.37910105 0.         ... 1.96774702 2.08331043 1.88920971]\n",
      " ...\n",
      " [1.71676975 2.08880562 1.96774702 ... 0.         0.2384904  0.10267916]\n",
      " [1.54449001 2.16644805 2.08331043 ... 0.2384904  0.         0.33373135]\n",
      " [1.75960848 2.02333665 1.88920971 ... 0.10267916 0.33373135 0.        ]]\n"
     ]
    }
   ],
   "source": [
    "import pandas as pd\n",
    "import numpy as np\n",
    "from sklearn.preprocessing import StandardScaler\n",
    "# Remove the class attribute (in this case, \"fish\")\n",
    "data_without_class = data.drop(\"fish\", axis=1)\n",
    "\n",
    "# Standardize the data (optional but recommended for some distance metrics)\n",
    "scaler = StandardScaler()\n",
    "data_without_class_std = scaler.fit_transform(data_without_class)\n",
    "\n",
    "# Calculate the Euclidean distance similarity matrix\n",
    "similarity_matrix = np.zeros((len(data_without_class_std), len(data_without_class_std)))\n",
    "for i in range(len(data_without_class_std)):\n",
    "    for j in range(i, len(data_without_class_std)):\n",
    "        distance = np.linalg.norm(data_without_class_std[i] - data_without_class_std[j])\n",
    "        similarity_matrix[i, j] = distance\n",
    "        similarity_matrix[j, i] = distance\n",
    "\n",
    "\n",
    "\n",
    "# Print or use the similarity matrix as needed\n",
    "print(\"Similarity Matrix:\")\n",
    "print(similarity_matrix)"
   ]
  },
  {
   "cell_type": "code",
   "execution_count": 55,
   "id": "e9d88a3e",
   "metadata": {},
   "outputs": [
    {
     "data": {
      "image/png": "[encoded data removed]",
      "text/plain": [
       "<Figure size 1000x800 with 2 Axes>"
      ]
     },
     "metadata": {},
     "output_type": "display_data"
    }
   ],
   "source": [
    "import pandas as pd\n",
    "import seaborn as sns\n",
    "import matplotlib.pyplot as plt\n",
    "\n",
    "#Calculate the correlation matrix\n",
    "correlation_matrix = data_without_class.corr()\n",
    "\n",
    "# Set the figure size\n",
    "plt.figure(figsize=(10, 8))\n",
    "\n",
    "# Create a heatmap of the correlation matrix\n",
    "sns.heatmap(correlation_matrix, annot=True, cmap='coolwarm', linewidths=0.5)\n",
    "\n",
    "# Add a title\n",
    "plt.title('Correlation Matrix')\n",
    "\n",
    "# Show the plot\n",
    "plt.show()"
   ]
  },
  {
   "cell_type": "code",
   "execution_count": 2,
   "id": "74c50d54",
   "metadata": {},
   "outputs": [],
   "source": [
    "import pandas as pd\n",
    "from sklearn.model_selection import train_test_split\n",
    "from sklearn.model_selection import train_test_split\n",
    "from sklearn.ensemble import RandomForestClassifier\n",
    "from sklearn.metrics import accuracy_score, classification_report\n"
   ]
  },
  {
   "cell_type": "code",
   "execution_count": 3,
   "id": "efe16c86",
   "metadata": {},
   "outputs": [],
   "source": [
    "# Load the dataset\n",
    "data = pd.read_csv(\"realfishdataset.csv\")\n",
    "# Split the data into features (X) and target (y)\n",
    "X = data.drop(\"fish\", axis=1)\n",
    "y = data[\"fish\"]\n"
   ]
  },
  {
   "cell_type": "code",
   "execution_count": 4,
   "id": "08e8b479",
   "metadata": {},
   "outputs": [],
   "source": [
    "# Split the data into training and testing sets\n",
    "# Split the data into training and testing sets\n",
    "X_train, X_test, y_train, y_test = train_test_split(X, y, test_size=0.05, random_state=42)"
   ]
  },
  {
   "cell_type": "markdown",
   "id": "a8c0cb91",
   "metadata": {},
   "source": [
    "# Random Forest"
   ]
  },
  {
   "cell_type": "code",
   "execution_count": 5,
   "id": "e5e9e755",
   "metadata": {},
   "outputs": [],
   "source": [
    "# Create a model (e.g., Random Forest)\n",
    "model = RandomForestClassifier()\n",
    "\n",
    "# Train the model\n",
    "model.fit(X_train, y_train)\n",
    "\n",
    "# Make predictions\n",
    "y_pred = model.predict(X_test)"
   ]
  },
  {
   "cell_type": "code",
   "execution_count": 6,
   "id": "b3bbb50a",
   "metadata": {},
   "outputs": [
    {
     "data": {
      "text/plain": [
       "['random_forest_model.pkl']"
      ]
     },
     "execution_count": 6,
     "metadata": {},
     "output_type": "execute_result"
    }
   ],
   "source": [
    "import joblib\n",
    "\n",
    "# Save the trained model to a file\n",
    "joblib.dump(model, 'random_forest_model.pkl')\n"
   ]
  },
  {
   "cell_type": "code",
   "execution_count": 23,
   "id": "2a3e731e",
   "metadata": {},
   "outputs": [
    {
     "name": "stdout",
     "output_type": "stream",
     "text": [
      "Accuracy: 0.9\n",
      "              precision    recall  f1-score   support\n",
      "\n",
      "      karpio       0.50      1.00      0.67         1\n",
      "       katla       0.50      1.00      0.67         1\n",
      "         koi       0.00      0.00      0.00         2\n",
      "      pangas       1.00      1.00      1.00         5\n",
      "       prawn       0.00      0.00      0.00         0\n",
      "         rui       1.00      1.00      1.00         1\n",
      "      shrimp       1.00      1.00      1.00         3\n",
      "   silverCup       1.00      1.00      1.00         2\n",
      "        sing       1.00      0.80      0.89         5\n",
      "     tilapia       1.00      1.00      1.00        10\n",
      "\n",
      "    accuracy                           0.90        30\n",
      "   macro avg       0.70      0.78      0.72        30\n",
      "weighted avg       0.90      0.90      0.89        30\n",
      "\n"
     ]
    },
    {
     "name": "stderr",
     "output_type": "stream",
     "text": [
      "C:\\Users\\Shahraiar Hossain\\anaconda3\\lib\\site-packages\\sklearn\\metrics\\_classification.py:1469: UndefinedMetricWarning: Precision and F-score are ill-defined and being set to 0.0 in labels with no predicted samples. Use `zero_division` parameter to control this behavior.\n",
      "  _warn_prf(average, modifier, msg_start, len(result))\n",
      "C:\\Users\\Shahraiar Hossain\\anaconda3\\lib\\site-packages\\sklearn\\metrics\\_classification.py:1469: UndefinedMetricWarning: Recall and F-score are ill-defined and being set to 0.0 in labels with no true samples. Use `zero_division` parameter to control this behavior.\n",
      "  _warn_prf(average, modifier, msg_start, len(result))\n",
      "C:\\Users\\Shahraiar Hossain\\anaconda3\\lib\\site-packages\\sklearn\\metrics\\_classification.py:1469: UndefinedMetricWarning: Precision and F-score are ill-defined and being set to 0.0 in labels with no predicted samples. Use `zero_division` parameter to control this behavior.\n",
      "  _warn_prf(average, modifier, msg_start, len(result))\n",
      "C:\\Users\\Shahraiar Hossain\\anaconda3\\lib\\site-packages\\sklearn\\metrics\\_classification.py:1469: UndefinedMetricWarning: Recall and F-score are ill-defined and being set to 0.0 in labels with no true samples. Use `zero_division` parameter to control this behavior.\n",
      "  _warn_prf(average, modifier, msg_start, len(result))\n",
      "C:\\Users\\Shahraiar Hossain\\anaconda3\\lib\\site-packages\\sklearn\\metrics\\_classification.py:1469: UndefinedMetricWarning: Precision and F-score are ill-defined and being set to 0.0 in labels with no predicted samples. Use `zero_division` parameter to control this behavior.\n",
      "  _warn_prf(average, modifier, msg_start, len(result))\n",
      "C:\\Users\\Shahraiar Hossain\\anaconda3\\lib\\site-packages\\sklearn\\metrics\\_classification.py:1469: UndefinedMetricWarning: Recall and F-score are ill-defined and being set to 0.0 in labels with no true samples. Use `zero_division` parameter to control this behavior.\n",
      "  _warn_prf(average, modifier, msg_start, len(result))\n"
     ]
    }
   ],
   "source": [
    "from sklearn.metrics import accuracy_score, classification_report, f1_score\n",
    "# Evaluate the model\n",
    "accuracy = accuracy_score(y_test, y_pred)\n",
    "print(\"Accuracy:\", accuracy)\n",
    "print(classification_report(y_test, y_pred))\n",
    "\n",
    "\n"
   ]
  },
  {
   "cell_type": "markdown",
   "id": "f444d178",
   "metadata": {},
   "source": [
    "# KNN"
   ]
  },
  {
   "cell_type": "code",
   "execution_count": 24,
   "id": "8c8d7cf7",
   "metadata": {},
   "outputs": [],
   "source": [
    "from sklearn.neighbors import KNeighborsClassifier\n",
    "from sklearn.metrics import accuracy_score, f1_score, classification_report"
   ]
  },
  {
   "cell_type": "code",
   "execution_count": 31,
   "id": "dd73cd80",
   "metadata": {},
   "outputs": [],
   "source": [
    "\n",
    "\n",
    "# Create a KNN model with a specified number of neighbors (e.g., 3)\n",
    "model = KNeighborsClassifier(n_neighbors=12)\n",
    "\n",
    "# Train the KNN model\n",
    "model.fit(X_train, y_train)\n",
    "\n",
    "# Make predictions\n",
    "y_pred = model.predict(X_test)\n",
    "\n",
    "\n"
   ]
  },
  {
   "cell_type": "code",
   "execution_count": 32,
   "id": "c3d789b2",
   "metadata": {},
   "outputs": [
    {
     "name": "stdout",
     "output_type": "stream",
     "text": [
      "Accuracy: 0.66\n",
      "Classification Report:\n",
      "              precision    recall  f1-score   support\n",
      "\n",
      "      karpio       0.67      0.50      0.57         4\n",
      "       katla       0.79      0.85      0.81        13\n",
      "         koi       0.00      0.00      0.00         4\n",
      "       magur       0.00      0.00      0.00         2\n",
      "      pangas       0.43      0.77      0.56        13\n",
      "       prawn       0.00      0.00      0.00         1\n",
      "         rui       0.80      0.71      0.75        17\n",
      "      shrimp       1.00      0.62      0.76        13\n",
      "   silverCup       0.64      0.70      0.67        10\n",
      "        sing       0.33      0.33      0.33         9\n",
      "     tilapia       0.89      0.76      0.82        33\n",
      "\n",
      "    accuracy                           0.66       119\n",
      "   macro avg       0.50      0.48      0.48       119\n",
      "weighted avg       0.71      0.66      0.67       119\n",
      "\n"
     ]
    }
   ],
   "source": [
    "# Evaluate the model\n",
    "accuracy = accuracy_score(y_test, y_pred)\n",
    "#f1 = f1_score(y_test, y_pred)\n",
    "classification_rep = classification_report(y_test, y_pred)\n",
    "\n",
    "print(f\"Accuracy: {accuracy:.2f}\")\n",
    "#print(f\"F1 Score: {f1:.2f}\")\n",
    "print(\"Classification Report:\")\n",
    "print(classification_rep)\n"
   ]
  },
  {
   "cell_type": "markdown",
   "id": "bbd9d80b",
   "metadata": {},
   "source": [
    "# Train the model using Naive Bayes."
   ]
  },
  {
   "cell_type": "code",
   "execution_count": 33,
   "id": "4e758baf",
   "metadata": {},
   "outputs": [],
   "source": [
    "from sklearn.naive_bayes import GaussianNB"
   ]
  },
  {
   "cell_type": "code",
   "execution_count": 34,
   "id": "596a2059",
   "metadata": {},
   "outputs": [],
   "source": [
    "# Create a Gaussian Naive Bayes model\n",
    "model = GaussianNB()\n",
    "\n",
    "# Train the Naive Bayes model\n",
    "model.fit(X_train, y_train)\n",
    "\n",
    "# Make predictions\n",
    "y_pred = model.predict(X_test)"
   ]
  },
  {
   "cell_type": "code",
   "execution_count": 35,
   "id": "dda3278a",
   "metadata": {},
   "outputs": [
    {
     "name": "stdout",
     "output_type": "stream",
     "text": [
      "Accuracy: 0.39\n",
      "Classification Report:\n",
      "              precision    recall  f1-score   support\n",
      "\n",
      "      karpio       1.00      1.00      1.00         4\n",
      "       katla       0.50      0.15      0.24        13\n",
      "         koi       0.00      0.00      0.00         4\n",
      "       magur       1.00      1.00      1.00         2\n",
      "      pangas       0.33      0.08      0.12        13\n",
      "       prawn       0.00      0.00      0.00         1\n",
      "         rui       0.24      0.65      0.35        17\n",
      "      shrimp       1.00      0.38      0.56        13\n",
      "   silverCup       0.00      0.00      0.00        10\n",
      "        sing       0.00      0.00      0.00         9\n",
      "     tilapia       0.51      0.67      0.58        33\n",
      "\n",
      "    accuracy                           0.39       119\n",
      "   macro avg       0.42      0.36      0.35       119\n",
      "weighted avg       0.43      0.39      0.36       119\n",
      "\n"
     ]
    },
    {
     "name": "stderr",
     "output_type": "stream",
     "text": [
      "C:\\Users\\Shahraiar Hossain\\anaconda3\\lib\\site-packages\\sklearn\\metrics\\_classification.py:1469: UndefinedMetricWarning: Precision and F-score are ill-defined and being set to 0.0 in labels with no predicted samples. Use `zero_division` parameter to control this behavior.\n",
      "  _warn_prf(average, modifier, msg_start, len(result))\n",
      "C:\\Users\\Shahraiar Hossain\\anaconda3\\lib\\site-packages\\sklearn\\metrics\\_classification.py:1469: UndefinedMetricWarning: Precision and F-score are ill-defined and being set to 0.0 in labels with no predicted samples. Use `zero_division` parameter to control this behavior.\n",
      "  _warn_prf(average, modifier, msg_start, len(result))\n",
      "C:\\Users\\Shahraiar Hossain\\anaconda3\\lib\\site-packages\\sklearn\\metrics\\_classification.py:1469: UndefinedMetricWarning: Precision and F-score are ill-defined and being set to 0.0 in labels with no predicted samples. Use `zero_division` parameter to control this behavior.\n",
      "  _warn_prf(average, modifier, msg_start, len(result))\n"
     ]
    }
   ],
   "source": [
    "# Evaluate the model\n",
    "accuracy = accuracy_score(y_test, y_pred)\n",
    "\n",
    "classification_rep = classification_report(y_test, y_pred)\n",
    "\n",
    "print(f\"Accuracy: {accuracy:.2f}\")\n",
    "print(\"Classification Report:\")\n",
    "print(classification_rep)"
   ]
  },
  {
   "cell_type": "markdown",
   "id": "aa0159d2",
   "metadata": {},
   "source": [
    "# Train the model using Decision Tree"
   ]
  },
  {
   "cell_type": "code",
   "execution_count": 36,
   "id": "cbd3b4d3",
   "metadata": {},
   "outputs": [],
   "source": [
    "from sklearn.tree import DecisionTreeClassifier"
   ]
  },
  {
   "cell_type": "code",
   "execution_count": 37,
   "id": "4360f493",
   "metadata": {},
   "outputs": [],
   "source": [
    "# Create a Decision Tree model\n",
    "model = DecisionTreeClassifier()\n",
    "\n",
    "# Train the Decision Tree model\n",
    "model.fit(X_train, y_train)\n",
    "\n",
    "# Make predictions\n",
    "y_pred = model.predict(X_test)"
   ]
  },
  {
   "cell_type": "code",
   "execution_count": 38,
   "id": "36bbe3d2",
   "metadata": {},
   "outputs": [
    {
     "name": "stdout",
     "output_type": "stream",
     "text": [
      "Accuracy: 0.82\n",
      "Classification Report:\n",
      "              precision    recall  f1-score   support\n",
      "\n",
      "      karpio       0.75      0.75      0.75         4\n",
      "       katla       0.67      0.92      0.77        13\n",
      "         koi       0.00      0.00      0.00         4\n",
      "       magur       0.50      0.50      0.50         2\n",
      "      pangas       0.86      0.92      0.89        13\n",
      "       prawn       0.00      0.00      0.00         1\n",
      "         rui       1.00      0.82      0.90        17\n",
      "      shrimp       1.00      1.00      1.00        13\n",
      "   silverCup       0.91      1.00      0.95        10\n",
      "        sing       0.67      0.67      0.67         9\n",
      "     tilapia       1.00      0.82      0.90        33\n",
      "\n",
      "    accuracy                           0.82       119\n",
      "   macro avg       0.67      0.67      0.67       119\n",
      "weighted avg       0.86      0.82      0.83       119\n",
      "\n"
     ]
    }
   ],
   "source": [
    "# Evaluate the model\n",
    "accuracy = accuracy_score(y_test, y_pred)\n",
    "\n",
    "classification_rep = classification_report(y_test, y_pred)\n",
    "\n",
    "print(f\"Accuracy: {accuracy:.2f}\")\n",
    "\n",
    "print(\"Classification Report:\")\n",
    "print(classification_rep)"
   ]
  },
  {
   "cell_type": "markdown",
   "id": "d4988ba3",
   "metadata": {},
   "source": [
    "# GUI"
   ]
  },
  {
   "cell_type": "code",
   "execution_count": 1,
   "id": "82cae9b6",
   "metadata": {},
   "outputs": [
    {
     "ename": "NameError",
     "evalue": "name 'X_train' is not defined",
     "output_type": "error",
     "traceback": [
      "\u001b[1;31m---------------------------------------------------------------------------\u001b[0m",
      "\u001b[1;31mNameError\u001b[0m                                 Traceback (most recent call last)",
      "Cell \u001b[1;32mIn[1], line 7\u001b[0m\n\u001b[0;32m      5\u001b[0m \u001b[38;5;66;03m# Load your trained Random Forest model\u001b[39;00m\n\u001b[0;32m      6\u001b[0m model \u001b[38;5;241m=\u001b[39m RandomForestClassifier()\n\u001b[1;32m----> 7\u001b[0m model\u001b[38;5;241m.\u001b[39mfit(\u001b[43mX_train\u001b[49m, y_train)  \u001b[38;5;66;03m# Make sure to use your training data\u001b[39;00m\n\u001b[0;32m      9\u001b[0m \u001b[38;5;66;03m# Define the PySimpleGUI layout\u001b[39;00m\n\u001b[0;32m     10\u001b[0m layout \u001b[38;5;241m=\u001b[39m [\n\u001b[0;32m     11\u001b[0m     [sg\u001b[38;5;241m.\u001b[39mText(\u001b[38;5;124m\"\u001b[39m\u001b[38;5;124mFish Species Predictor\u001b[39m\u001b[38;5;124m\"\u001b[39m, size\u001b[38;5;241m=\u001b[39m(\u001b[38;5;241m30\u001b[39m, \u001b[38;5;241m1\u001b[39m), justification\u001b[38;5;241m=\u001b[39m\u001b[38;5;124m'\u001b[39m\u001b[38;5;124mcenter\u001b[39m\u001b[38;5;124m'\u001b[39m, font\u001b[38;5;241m=\u001b[39m(\u001b[38;5;124m\"\u001b[39m\u001b[38;5;124mHelvetica\u001b[39m\u001b[38;5;124m\"\u001b[39m, \u001b[38;5;241m20\u001b[39m))],\n\u001b[0;32m     12\u001b[0m     [sg\u001b[38;5;241m.\u001b[39mText(\u001b[38;5;124m\"\u001b[39m\u001b[38;5;124mpH:\u001b[39m\u001b[38;5;124m\"\u001b[39m), sg\u001b[38;5;241m.\u001b[39mInputText(key\u001b[38;5;241m=\u001b[39m\u001b[38;5;124m\"\u001b[39m\u001b[38;5;124mpH\u001b[39m\u001b[38;5;124m\"\u001b[39m)],\n\u001b[1;32m   (...)\u001b[0m\n\u001b[0;32m     16\u001b[0m     [sg\u001b[38;5;241m.\u001b[39mText(\u001b[38;5;124m\"\u001b[39m\u001b[38;5;124mPrediction: \u001b[39m\u001b[38;5;124m\"\u001b[39m, size\u001b[38;5;241m=\u001b[39m(\u001b[38;5;241m30\u001b[39m, \u001b[38;5;241m1\u001b[39m), key\u001b[38;5;241m=\u001b[39m\u001b[38;5;124m\"\u001b[39m\u001b[38;5;124moutput\u001b[39m\u001b[38;5;124m\"\u001b[39m, text_color\u001b[38;5;241m=\u001b[39m\u001b[38;5;124m\"\u001b[39m\u001b[38;5;124mblue\u001b[39m\u001b[38;5;124m\"\u001b[39m)],\n\u001b[0;32m     17\u001b[0m ]\n",
      "\u001b[1;31mNameError\u001b[0m: name 'X_train' is not defined"
     ]
    }
   ],
   "source": [
    "import PySimpleGUI as sg\n",
    "import pandas as pd\n",
    "from sklearn.ensemble import RandomForestClassifier\n",
    "\n",
    "# Load your trained Random Forest model\n",
    "model = RandomForestClassifier()\n",
    "model.fit(X_train, y_train)  # Make sure to use your training data\n",
    "\n",
    "# Define the PySimpleGUI layout\n",
    "layout = [\n",
    "    [sg.Text(\"Fish Species Predictor\", size=(30, 1), justification='center', font=(\"Helvetica\", 20))],\n",
    "    [sg.Text(\"pH:\"), sg.InputText(key=\"pH\")],\n",
    "    [sg.Text(\"Temperature:\"), sg.InputText(key=\"temperature\")],\n",
    "    [sg.Text(\"Turbidity:\"), sg.InputText(key=\"turbidity\")],\n",
    "    [sg.Button(\"Predict\"), sg.Button(\"Reattempt\"), sg.Button(\"Exit\")],\n",
    "    [sg.Text(\"Prediction: \", size=(30, 1), key=\"output\", text_color=\"blue\")],\n",
    "]\n",
    "\n",
    "window = sg.Window(\"Fish Species Predictor\", layout, finalize=True)\n",
    "sg.theme('BrightColors')\n",
    "while True:\n",
    "    event, values = window.read()\n",
    "    if event == sg.WINDOW_CLOSED or event == \"Exit\":\n",
    "        break\n",
    "    if event == \"Predict\":\n",
    "        try:\n",
    "            # Get input values\n",
    "            pH = float(values[\"pH\"])\n",
    "            temperature = float(values[\"temperature\"])\n",
    "            turbidity = float(values[\"turbidity\"])\n",
    "\n",
    "            # Predict using the trained Random Forest model\n",
    "            input_data = [[pH, temperature, turbidity]]\n",
    "            prediction = model.predict(input_data)[0]\n",
    "\n",
    "            # Display the predicted fish species\n",
    "            window[\"output\"].update(f\"Predicted Fish Species: {prediction}\")\n",
    "        except ValueError:\n",
    "            window[\"output\"].update(\"Error: Invalid Input\")\n",
    "    elif event == \"Reattempt\":\n",
    "        window[\"pH\"].update(\"\")\n",
    "        window[\"temperature\"].update(\"\")\n",
    "        window[\"turbidity\"].update(\"\")\n",
    "        window[\"output\"].update(\"Prediction: \")\n",
    "\n",
    "window.close()\n"
   ]
  },
  {
   "cell_type": "code",
   "execution_count": 7,
   "id": "fa8c57fd",
   "metadata": {},
   "outputs": [
    {
     "name": "stderr",
     "output_type": "stream",
     "text": [
      "C:\\Users\\Shahraiar Hossain\\anaconda3\\lib\\site-packages\\sklearn\\base.py:464: UserWarning: X does not have valid feature names, but RandomForestClassifier was fitted with feature names\n",
      "  warnings.warn(\n"
     ]
    }
   ],
   "source": [
    "import PySimpleGUI as sg\n",
    "import pandas as pd\n",
    "from sklearn.ensemble import RandomForestClassifier\n",
    "import joblib  # Import joblib for loading the trained model\n",
    "\n",
    "# Load your trained Random Forest model from the file\n",
    "model = joblib.load('random_forest_model.pkl')\n",
    "\n",
    "# Define the PySimpleGUI layout\n",
    "layout = [\n",
    "    [sg.Text(\"Fish Species Predictor\", size=(30, 1), justification='center', font=(\"Helvetica\", 20))],\n",
    "    [sg.Text(\"pH:\"), sg.InputText(key=\"pH\")],\n",
    "    [sg.Text(\"Temperature:\"), sg.InputText(key=\"temperature\")],\n",
    "    [sg.Text(\"Turbidity:\"), sg.InputText(key=\"turbidity\")],\n",
    "    [sg.Button(\"Predict\"), sg.Button(\"Reattempt\"), sg.Button(\"Exit\")],\n",
    "    [sg.Text(\"Prediction: \", size=(30, 1), key=\"output\", text_color=\"blue\")],\n",
    "]\n",
    "\n",
    "window = sg.Window(\"Fish Species Predictor\", layout, finalize=True)\n",
    "sg.theme('BrightColors')\n",
    "while True:\n",
    "    event, values = window.read()\n",
    "    if event == sg.WINDOW_CLOSED or event == \"Exit\":\n",
    "        break\n",
    "    if event == \"Predict\":\n",
    "        try:\n",
    "            # Get input values\n",
    "            pH = float(values[\"pH\"])\n",
    "            temperature = float(values[\"temperature\"])\n",
    "            turbidity = float(values[\"turbidity\"])\n",
    "\n",
    "            # Predict using the loaded Random Forest model\n",
    "            input_data = [[pH, temperature, turbidity]]\n",
    "            prediction = model.predict(input_data)[0]\n",
    "\n",
    "            # Display the predicted fish species\n",
    "            window[\"output\"].update(f\"Predicted Fish Species: {prediction}\")\n",
    "        except ValueError:\n",
    "            window[\"output\"].update(\"Error: Invalid Input\")\n",
    "    elif event == \"Reattempt\":\n",
    "        window[\"pH\"].update(\"\")\n",
    "        window[\"temperature\"].update(\"\")\n",
    "        window[\"turbidity\"].update(\"\")\n",
    "        window[\"output\"].update(\"Prediction: \")\n",
    "\n",
    "window.close()\n"
   ]
  },
  {
   "cell_type": "code",
   "execution_count": null,
   "id": "5ffa9cb4",
   "metadata": {},
   "outputs": [],
   "source": []
  }
 ],
 "metadata": {
  "kernelspec": {
   "display_name": "Python 3 (ipykernel)",
   "language": "python",
   "name": "python3"
  },
  "language_info": {
   "codemirror_mode": {
    "name": "ipython",
    "version": 3
   },
   "file_extension": ".py",
   "mimetype": "text/x-python",
   "name": "python",
   "nbconvert_exporter": "python",
   "pygments_lexer": "ipython3",
   "version": "3.10.9"
  }
 },
 "nbformat": 4,
 "nbformat_minor": 5
}
